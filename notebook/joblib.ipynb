{
 "cells": [
  {
   "cell_type": "markdown",
   "metadata": {},
   "source": [
    "# Joblib model saving"
   ]
  },
  {
   "cell_type": "code",
   "execution_count": 1,
   "metadata": {
    "collapsed": false
   },
   "outputs": [],
   "source": [
    "from python_speech_features import mfcc\n",
    "from python_speech_features import delta\n",
    "from python_speech_features import logfbank\n",
    "from python_speech_features import ssc\n",
    "import scipy.io.wavfile as wav\n",
    "import pandas as pd\n",
    "import numpy as np"
   ]
  },
  {
   "cell_type": "markdown",
   "metadata": {},
   "source": [
    "## test sound"
   ]
  },
  {
   "cell_type": "code",
   "execution_count": 2,
   "metadata": {
    "collapsed": false,
    "scrolled": true
   },
   "outputs": [],
   "source": [
    "(rate1,sig1) = wav.read(\"indoor170726-001.wav\")#zero"
   ]
  },
  {
   "cell_type": "code",
   "execution_count": 3,
   "metadata": {
    "collapsed": false
   },
   "outputs": [],
   "source": [
    "(rate2,sig2) = wav.read(\"drone_3.wav\")#one"
   ]
  },
  {
   "cell_type": "code",
   "execution_count": 4,
   "metadata": {
    "collapsed": false
   },
   "outputs": [],
   "source": [
    "sig1_train = sig1[2000:200000,]\n",
    "sig1_test = sig1[200001:400000,]\n",
    "sig2_train = sig2[2000:200000,]\n",
    "sig2_test = sig2[200001:400000,]\n",
    "#train = np.concatenate((sig1_train, sig2_train), axis=0)\n",
    "#test = np.concatenate((sig1_test, sig2_test), axis=0)"
   ]
  },
  {
   "cell_type": "code",
   "execution_count": 5,
   "metadata": {
    "collapsed": false
   },
   "outputs": [
    {
     "name": "stdout",
     "output_type": "stream",
     "text": [
      "(198000,)\n",
      "(199999,)\n",
      "(198000,)\n",
      "(199999,)\n"
     ]
    }
   ],
   "source": [
    "print(sig1_train.shape)\n",
    "print(sig1_test.shape)\n",
    "print(sig2_train.shape)\n",
    "print(sig2_test.shape)"
   ]
  },
  {
   "cell_type": "markdown",
   "metadata": {},
   "source": [
    "### data 1, train data"
   ]
  },
  {
   "cell_type": "code",
   "execution_count": 6,
   "metadata": {
    "collapsed": true
   },
   "outputs": [],
   "source": [
    "mfcc_feat1_train = mfcc(sig1_train,rate1,nfft=2048,)\n",
    "d_mfcc_feat1_train = delta(mfcc_feat1_train, 2)\n",
    "fbank_feat1_train = logfbank(sig1_train,rate1, nfft=2048)\n",
    "ssc_feat1_train = ssc(sig1_train,rate1, nfft=2048)\n",
    "y1_train = np.zeros(mfcc_feat1_train.shape[0])#314"
   ]
  },
  {
   "cell_type": "code",
   "execution_count": 7,
   "metadata": {
    "collapsed": false
   },
   "outputs": [
    {
     "name": "stdout",
     "output_type": "stream",
     "text": [
      "(448, 13)\n",
      "(448, 13)\n",
      "(448, 26)\n",
      "(448, 26)\n"
     ]
    }
   ],
   "source": [
    "print(mfcc_feat1_train.shape)\n",
    "print(d_mfcc_feat1_train.shape)\n",
    "print(fbank_feat1_train.shape)\n",
    "print(ssc_feat1_train.shape)"
   ]
  },
  {
   "cell_type": "code",
   "execution_count": 8,
   "metadata": {
    "collapsed": false
   },
   "outputs": [
    {
     "name": "stdout",
     "output_type": "stream",
     "text": [
      "[[ -3.60436534e+01   0.00000000e+00  -3.20763172e-14 ...,  -3.27769755e-13\n",
      "    0.00000000e+00   3.59484803e-13]\n",
      " [ -3.60436534e+01   0.00000000e+00  -3.20763172e-14 ...,  -3.27769755e-13\n",
      "    0.00000000e+00   3.59484803e-13]\n",
      " [ -3.60436534e+01   0.00000000e+00  -3.20763172e-14 ...,  -3.27769755e-13\n",
      "    0.00000000e+00   3.59484803e-13]\n",
      " ..., \n",
      " [  1.56077911e+01  -4.35911145e-02  -4.24360088e+00 ...,  -4.33314076e+00\n",
      "    2.07736220e+00  -1.74336863e+00]\n",
      " [  1.57129214e+01   7.65808924e-01  -3.68936727e+00 ...,  -6.36986266e+00\n",
      "   -4.74566602e-01  -8.34072331e-01]\n",
      " [  1.56124448e+01  -8.19567480e-01  -5.39981873e+00 ...,  -6.80253332e+00\n",
      "   -6.18144168e+00  -4.68548074e+00]]\n"
     ]
    }
   ],
   "source": [
    "print(mfcc_feat1_train)"
   ]
  },
  {
   "cell_type": "markdown",
   "metadata": {},
   "source": [
    "### data 1, test data"
   ]
  },
  {
   "cell_type": "code",
   "execution_count": 9,
   "metadata": {
    "collapsed": true
   },
   "outputs": [],
   "source": [
    "mfcc_feat1_test = mfcc(sig1_test,rate1,nfft=2048,)\n",
    "d_mfcc_feat1_test = delta(mfcc_feat1_test, 2)\n",
    "fbank_feat1_test = logfbank(sig1_test,rate1, nfft=2048)\n",
    "ssc_feat1_test = ssc(sig1_test,rate1, nfft=2048)\n",
    "y1_test = np.zeros(mfcc_feat1_test.shape[0])"
   ]
  },
  {
   "cell_type": "code",
   "execution_count": 10,
   "metadata": {
    "collapsed": false
   },
   "outputs": [
    {
     "name": "stdout",
     "output_type": "stream",
     "text": [
      "(453, 13)\n",
      "(453, 13)\n",
      "(453, 26)\n",
      "(453, 26)\n"
     ]
    }
   ],
   "source": [
    "print(mfcc_feat1_test.shape)\n",
    "print(d_mfcc_feat1_test.shape)\n",
    "print(fbank_feat1_test.shape)\n",
    "print(ssc_feat1_test.shape)"
   ]
  },
  {
   "cell_type": "markdown",
   "metadata": {},
   "source": [
    "### data 2, train data"
   ]
  },
  {
   "cell_type": "code",
   "execution_count": 11,
   "metadata": {
    "collapsed": true
   },
   "outputs": [],
   "source": [
    "mfcc_feat2_train = mfcc(sig2_train,rate2,nfft=2048)\n",
    "#np.savetxt('../data/mfcc2.txt', mfcc_feat2)\n",
    "d_mfcc_feat2_train = delta(mfcc_feat2_train, 2)\n",
    "#np.savetxt('../data/dmfcc2.csv', d_mfcc_feat2_train)\n",
    "fbank_feat2_train = logfbank(sig2_train,rate2, nfft=2048)\n",
    "#np.savetxt('../data/dmfcc2.csv', fbank_feat2_train)\n",
    "ssc_feat2_train = ssc(sig2_train,rate2, nfft=2048)\n",
    "#np.savetxt('../data/ssc2.csv', ssc_feat2_train)\n",
    "y2_train = np.ones(mfcc_feat2_train.shape[0])"
   ]
  },
  {
   "cell_type": "code",
   "execution_count": 12,
   "metadata": {
    "collapsed": false
   },
   "outputs": [
    {
     "name": "stdout",
     "output_type": "stream",
     "text": [
      "(895, 13)\n",
      "(895, 13)\n",
      "(895, 26)\n",
      "(895, 26)\n"
     ]
    }
   ],
   "source": [
    "print(mfcc_feat2_train.shape)\n",
    "print(d_mfcc_feat2_train.shape)\n",
    "print(fbank_feat2_train.shape)\n",
    "print(ssc_feat2_train.shape)"
   ]
  },
  {
   "cell_type": "markdown",
   "metadata": {},
   "source": [
    "### data 2, test data"
   ]
  },
  {
   "cell_type": "code",
   "execution_count": 13,
   "metadata": {
    "collapsed": true
   },
   "outputs": [],
   "source": [
    "mfcc_feat2_test = mfcc(sig2_test,rate2,nfft=2048)\n",
    "d_mfcc_feat2_test = delta(mfcc_feat2_test, 2)\n",
    "fbank_feat2_test = logfbank(sig2_test,rate2, nfft=2048)\n",
    "ssc_feat2_test = ssc(sig2_test,rate2, nfft=2048)\n",
    "y2_test = np.ones(mfcc_feat2_test.shape[0])"
   ]
  },
  {
   "cell_type": "code",
   "execution_count": 14,
   "metadata": {
    "collapsed": false
   },
   "outputs": [
    {
     "name": "stdout",
     "output_type": "stream",
     "text": [
      "(904, 13)\n",
      "(904, 13)\n",
      "(904, 26)\n",
      "(904, 26)\n"
     ]
    }
   ],
   "source": [
    "print(mfcc_feat2_test.shape)\n",
    "print(d_mfcc_feat2_test.shape)\n",
    "print(fbank_feat2_test.shape)\n",
    "print(ssc_feat2_test.shape)"
   ]
  },
  {
   "cell_type": "markdown",
   "metadata": {},
   "source": [
    "### concatenated"
   ]
  },
  {
   "cell_type": "code",
   "execution_count": 15,
   "metadata": {
    "collapsed": false
   },
   "outputs": [],
   "source": [
    "# mfcc\n",
    "mfcc_train = np.concatenate((mfcc_feat1_train ,mfcc_feat2_train), axis=0)\n",
    "mfcc_test = np.concatenate((mfcc_feat1_test ,mfcc_feat2_test), axis=0)\n",
    "\n",
    "# d_mfcc\n",
    "d_mfcc_train = np.concatenate((d_mfcc_feat1_train, d_mfcc_feat2_train), axis=0)\n",
    "d_mfcc_test = np.concatenate((d_mfcc_feat1_test, d_mfcc_feat2_test), axis=0)\n",
    "\n",
    "# fbank\n",
    "fbank_train = np.concatenate((fbank_feat1_train, fbank_feat2_train), axis=0)\n",
    "fbank_test = np.concatenate((fbank_feat1_test, fbank_feat2_test), axis=0)\n",
    "\n",
    "# ssc\n",
    "ssc_train = np.concatenate((ssc_feat1_train, ssc_feat2_train), axis=0)\n",
    "ssc_test = np.concatenate((ssc_feat1_test, ssc_feat2_test), axis=0)"
   ]
  },
  {
   "cell_type": "code",
   "execution_count": 16,
   "metadata": {
    "collapsed": false
   },
   "outputs": [
    {
     "name": "stdout",
     "output_type": "stream",
     "text": [
      "(1343,)\n",
      "(1357,)\n"
     ]
    }
   ],
   "source": [
    "y_train = np.concatenate((y1_train,y2_train), axis=0)\n",
    "y_test = np.concatenate((y1_test,y2_test), axis=0)\n",
    "print(y_train.shape)\n",
    "print(y_test.shape)"
   ]
  },
  {
   "cell_type": "code",
   "execution_count": 17,
   "metadata": {
    "collapsed": false
   },
   "outputs": [
    {
     "name": "stdout",
     "output_type": "stream",
     "text": [
      "(1343, 13)\n"
     ]
    }
   ],
   "source": [
    "print(mfcc_train.shape)"
   ]
  },
  {
   "cell_type": "code",
   "execution_count": 18,
   "metadata": {
    "collapsed": false
   },
   "outputs": [
    {
     "data": {
      "text/plain": [
       "SVC(C=1.0, cache_size=200, class_weight=None, coef0=0.0,\n",
       "  decision_function_shape=None, degree=3, gamma='auto', kernel='rbf',\n",
       "  max_iter=-1, probability=False, random_state=None, shrinking=True,\n",
       "  tol=0.001, verbose=False)"
      ]
     },
     "execution_count": 18,
     "metadata": {},
     "output_type": "execute_result"
    }
   ],
   "source": [
    "from sklearn import svm\n",
    "clf_mfcc = svm.SVC()\n",
    "clf_mfcc.fit(mfcc_train, y_train)"
   ]
  },
  {
   "cell_type": "code",
   "execution_count": 19,
   "metadata": {
    "collapsed": false
   },
   "outputs": [
    {
     "data": {
      "text/plain": [
       "SVC(C=1.0, cache_size=200, class_weight=None, coef0=0.0,\n",
       "  decision_function_shape=None, degree=3, gamma='auto', kernel='rbf',\n",
       "  max_iter=-1, probability=False, random_state=None, shrinking=True,\n",
       "  tol=0.001, verbose=False)"
      ]
     },
     "execution_count": 19,
     "metadata": {},
     "output_type": "execute_result"
    }
   ],
   "source": [
    "clf_d_mfcc = svm.SVC()\n",
    "clf_d_mfcc.fit(d_mfcc_train, y_train)"
   ]
  },
  {
   "cell_type": "code",
   "execution_count": 20,
   "metadata": {
    "collapsed": false
   },
   "outputs": [
    {
     "data": {
      "text/plain": [
       "SVC(C=1.0, cache_size=200, class_weight=None, coef0=0.0,\n",
       "  decision_function_shape=None, degree=3, gamma='auto', kernel='rbf',\n",
       "  max_iter=-1, probability=False, random_state=None, shrinking=True,\n",
       "  tol=0.001, verbose=False)"
      ]
     },
     "execution_count": 20,
     "metadata": {},
     "output_type": "execute_result"
    }
   ],
   "source": [
    "clf_fbank = svm.SVC()\n",
    "clf_fbank.fit(fbank_train, y_train)"
   ]
  },
  {
   "cell_type": "code",
   "execution_count": 21,
   "metadata": {
    "collapsed": false
   },
   "outputs": [
    {
     "data": {
      "text/plain": [
       "SVC(C=1.0, cache_size=200, class_weight=None, coef0=0.0,\n",
       "  decision_function_shape=None, degree=3, gamma='auto', kernel='rbf',\n",
       "  max_iter=-1, probability=False, random_state=None, shrinking=True,\n",
       "  tol=0.001, verbose=False)"
      ]
     },
     "execution_count": 21,
     "metadata": {},
     "output_type": "execute_result"
    }
   ],
   "source": [
    "clf_ssc = svm.SVC()\n",
    "clf_ssc.fit(ssc_train, y_train)"
   ]
  },
  {
   "cell_type": "code",
   "execution_count": 22,
   "metadata": {
    "collapsed": false,
    "scrolled": true
   },
   "outputs": [
    {
     "name": "stdout",
     "output_type": "stream",
     "text": [
      "(1343, 13)\n",
      "(1357, 13)\n",
      "(1357,)\n",
      "(1357,)\n"
     ]
    }
   ],
   "source": [
    "print(mfcc_train.shape)\n",
    "print(mfcc_test.shape)\n",
    "y_pred_mfcc = clf_mfcc.predict(mfcc_test)\n",
    "y_pred_d_mfcc = clf_d_mfcc.predict(d_mfcc_test)\n",
    "y_pred_fbank = clf_fbank.predict(fbank_test)\n",
    "y_pred_ssc = clf_ssc.predict(ssc_test)\n",
    "print(y_test.shape)\n",
    "print(y_pred_ssc.shape)"
   ]
  },
  {
   "cell_type": "code",
   "execution_count": 23,
   "metadata": {
    "collapsed": false,
    "scrolled": true
   },
   "outputs": [
    {
     "name": "stdout",
     "output_type": "stream",
     "text": [
      "0.799646174259\n",
      "0.807365439093\n",
      "1.0\n",
      "0.799646174259\n"
     ]
    }
   ],
   "source": [
    "from sklearn.metrics import f1_score\n",
    "print(f1_score(y_test, y_pred_mfcc, average='binary'))\n",
    "print(f1_score(y_test, y_pred_d_mfcc, average='binary'))\n",
    "print(f1_score(y_test, y_pred_fbank, average='binary'))\n",
    "print(f1_score(y_test, y_pred_ssc, average='binary'))"
   ]
  },
  {
   "cell_type": "markdown",
   "metadata": {},
   "source": [
    "### Joblib"
   ]
  },
  {
   "cell_type": "code",
   "execution_count": 24,
   "metadata": {
    "collapsed": false
   },
   "outputs": [],
   "source": [
    "from sklearn.externals import joblib\n",
    "filename = 'C:/Users/EunJu_Yoon/Desktop/UAV_PROJECT/svm_mfcc_22050.joblib.pkl'\n",
    "joblib.dump(clf_mfcc, filename, compress=9)\n",
    "clf2 = joblib.load(filename)\n",
    "y_pred_joblib = clf2.predict(mfcc_test)"
   ]
  },
  {
   "cell_type": "code",
   "execution_count": 25,
   "metadata": {
    "collapsed": false
   },
   "outputs": [],
   "source": [
    "from sklearn.externals import joblib\n",
    "filename = 'C:/Users/EunJu_Yoon/Desktop/UAV_PROJECT/svm_fbank_22050.joblib.pkl'\n",
    "joblib.dump(clf_fbank, filename, compress=9)\n",
    "clf2 = joblib.load(filename)\n",
    "y_pred_joblib = clf2.predict(fbank_test)"
   ]
  }
 ],
 "metadata": {
  "kernelspec": {
   "display_name": "Python [default]",
   "language": "python",
   "name": "python3"
  },
  "language_info": {
   "codemirror_mode": {
    "name": "ipython",
    "version": 3
   },
   "file_extension": ".py",
   "mimetype": "text/x-python",
   "name": "python",
   "nbconvert_exporter": "python",
   "pygments_lexer": "ipython3",
   "version": "3.5.2"
  }
 },
 "nbformat": 4,
 "nbformat_minor": 2
}
