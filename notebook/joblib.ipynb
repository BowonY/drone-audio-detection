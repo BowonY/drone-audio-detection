{
 "cells": [
  {
   "cell_type": "markdown",
   "metadata": {},
   "source": [
    "# Joblib model saving"
   ]
  },
  {
   "cell_type": "code",
   "execution_count": 2,
   "metadata": {
    "collapsed": false
   },
   "outputs": [],
   "source": [
    "from python_speech_features import mfcc\n",
    "from python_speech_features import delta\n",
    "from python_speech_features import logfbank\n",
    "from python_speech_features import ssc\n",
    "import scipy.io.wavfile as wav\n",
    "import pandas as pd\n",
    "import numpy as np"
   ]
  },
  {
   "cell_type": "markdown",
   "metadata": {},
   "source": [
    "## test sound"
   ]
  },
  {
   "cell_type": "code",
   "execution_count": 3,
   "metadata": {
    "collapsed": false,
    "scrolled": true
   },
   "outputs": [],
   "source": [
    "(rate1,sig1) = wav.read(\"../data/0801/env.wav\")#zero"
   ]
  },
  {
   "cell_type": "code",
   "execution_count": 4,
   "metadata": {
    "collapsed": false
   },
   "outputs": [],
   "source": [
    "(rate2,sig2) = wav.read(\"../data/0801/voice.wav\")#one"
   ]
  },
  {
   "cell_type": "code",
   "execution_count": 7,
   "metadata": {
    "collapsed": false
   },
   "outputs": [],
   "source": [
    "sig1_train = sig1[2000:150000,]\n",
    "sig1_test = sig1[150001:,]\n",
    "sig2_train = sig2[2000:150000,]\n",
    "sig2_test = sig2[150001:200000,]\n",
    "#train = np.concatenate((sig1_train, sig2_train), axis=0)\n",
    "#test = np.concatenate((sig1_test, sig2_test), axis=0)"
   ]
  },
  {
   "cell_type": "code",
   "execution_count": 11,
   "metadata": {
    "collapsed": false
   },
   "outputs": [
    {
     "name": "stdout",
     "output_type": "stream",
     "text": [
      "(89999,)\n",
      "(148000,)\n"
     ]
    }
   ],
   "source": [
    "print(sig1_test.shape)\n",
    "print(sig2_train.shape)"
   ]
  },
  {
   "cell_type": "markdown",
   "metadata": {},
   "source": [
    "### data 1, train data"
   ]
  },
  {
   "cell_type": "code",
   "execution_count": 12,
   "metadata": {
    "collapsed": true
   },
   "outputs": [],
   "source": [
    "mfcc_feat1_train = mfcc(sig1_train,rate1,nfft=2048,)\n",
    "d_mfcc_feat1_train = delta(mfcc_feat1_train, 2)\n",
    "fbank_feat1_train = logfbank(sig1_train,rate1, nfft=2048)\n",
    "ssc_feat1_train = ssc(sig1_train,rate1, nfft=2048)\n",
    "y1_train = np.zeros(669)#314"
   ]
  },
  {
   "cell_type": "code",
   "execution_count": 13,
   "metadata": {
    "collapsed": false
   },
   "outputs": [
    {
     "name": "stdout",
     "output_type": "stream",
     "text": [
      "(669, 13)\n",
      "(669, 13)\n",
      "(669, 26)\n",
      "(669, 26)\n"
     ]
    }
   ],
   "source": [
    "print(mfcc_feat1_train.shape)\n",
    "print(d_mfcc_feat1_train.shape)\n",
    "print(fbank_feat1_train.shape)\n",
    "print(ssc_feat1_train.shape)"
   ]
  },
  {
   "cell_type": "code",
   "execution_count": 14,
   "metadata": {
    "collapsed": false
   },
   "outputs": [
    {
     "name": "stdout",
     "output_type": "stream",
     "text": [
      "[[ 16.03820623  -9.4093485  -14.10777646 ...,   5.98362674  -4.934165\n",
      "    3.00594478]\n",
      " [ 16.08640218  -6.95880824 -10.76884446 ...,   1.68018899  -5.51671187\n",
      "    5.95578357]\n",
      " [ 16.09133337  -7.20834963 -11.25875679 ...,  -1.86620773  -8.4996232\n",
      "    3.93769043]\n",
      " ..., \n",
      " [ 11.16645027  -2.04122557  -6.25155783 ..., -10.22763615  -6.96513538\n",
      "   -5.82616475]\n",
      " [ 11.15966361  -1.10040241  -5.95134883 ...,  -5.79219954  -0.37408659\n",
      "   -3.6778085 ]\n",
      " [ 10.78595604  -1.43960515  -4.79751753 ...,  -1.29884423   6.09177041\n",
      "    4.29188715]]\n"
     ]
    }
   ],
   "source": [
    "print(mfcc_feat1_train)"
   ]
  },
  {
   "cell_type": "markdown",
   "metadata": {},
   "source": [
    "### data 1, test data"
   ]
  },
  {
   "cell_type": "code",
   "execution_count": 17,
   "metadata": {
    "collapsed": true
   },
   "outputs": [],
   "source": [
    "mfcc_feat1_test = mfcc(sig1_test,rate1,nfft=2048,)\n",
    "d_mfcc_feat1_test = delta(mfcc_feat1_test, 2)\n",
    "fbank_feat1_test = logfbank(sig1_test,rate1, nfft=2048)\n",
    "ssc_feat1_test = ssc(sig1_test,rate1, nfft=2048)\n",
    "y1_test = np.zeros(406)"
   ]
  },
  {
   "cell_type": "code",
   "execution_count": 18,
   "metadata": {
    "collapsed": false
   },
   "outputs": [
    {
     "name": "stdout",
     "output_type": "stream",
     "text": [
      "(406, 13)\n",
      "(406, 13)\n",
      "(406, 26)\n",
      "(406, 26)\n"
     ]
    }
   ],
   "source": [
    "print(mfcc_feat1_test.shape)\n",
    "print(d_mfcc_feat1_test.shape)\n",
    "print(fbank_feat1_test.shape)\n",
    "print(ssc_feat1_test.shape)"
   ]
  },
  {
   "cell_type": "markdown",
   "metadata": {},
   "source": [
    "### data 2, train data"
   ]
  },
  {
   "cell_type": "code",
   "execution_count": 19,
   "metadata": {
    "collapsed": true
   },
   "outputs": [],
   "source": [
    "mfcc_feat2_train = mfcc(sig2_train,rate2,nfft=2048)\n",
    "#np.savetxt('../data/mfcc2.txt', mfcc_feat2)\n",
    "d_mfcc_feat2_train = delta(mfcc_feat2_train, 2)\n",
    "#np.savetxt('../data/dmfcc2.csv', d_mfcc_feat2_train)\n",
    "fbank_feat2_train = logfbank(sig2_train,rate2, nfft=2048)\n",
    "#np.savetxt('../data/dmfcc2.csv', fbank_feat2_train)\n",
    "ssc_feat2_train = ssc(sig2_train,rate2, nfft=2048)\n",
    "#np.savetxt('../data/ssc2.csv', ssc_feat2_train)\n",
    "y2_train = np.ones(669)"
   ]
  },
  {
   "cell_type": "code",
   "execution_count": 20,
   "metadata": {
    "collapsed": false
   },
   "outputs": [
    {
     "name": "stdout",
     "output_type": "stream",
     "text": [
      "(669, 13)\n",
      "(669, 13)\n",
      "(669, 26)\n",
      "(669, 26)\n"
     ]
    }
   ],
   "source": [
    "print(mfcc_feat1_train.shape)\n",
    "print(d_mfcc_feat1_train.shape)\n",
    "print(fbank_feat1_train.shape)\n",
    "print(ssc_feat1_train.shape)"
   ]
  },
  {
   "cell_type": "markdown",
   "metadata": {},
   "source": [
    "### data 2, test data"
   ]
  },
  {
   "cell_type": "code",
   "execution_count": 21,
   "metadata": {
    "collapsed": true
   },
   "outputs": [],
   "source": [
    "mfcc_feat2_test = mfcc(sig2_test,rate2,nfft=2048)\n",
    "d_mfcc_feat2_test = delta(mfcc_feat2_test, 2)\n",
    "fbank_feat2_test = logfbank(sig2_test,rate2, nfft=2048)\n",
    "ssc_feat2_test = ssc(sig2_test,rate2, nfft=2048)\n",
    "y2_test = np.ones(225)"
   ]
  },
  {
   "cell_type": "code",
   "execution_count": 22,
   "metadata": {
    "collapsed": false
   },
   "outputs": [
    {
     "name": "stdout",
     "output_type": "stream",
     "text": [
      "(225, 13)\n",
      "(225, 13)\n",
      "(225, 26)\n",
      "(225, 26)\n"
     ]
    }
   ],
   "source": [
    "print(mfcc_feat2_test.shape)\n",
    "print(d_mfcc_feat2_test.shape)\n",
    "print(fbank_feat2_test.shape)\n",
    "print(ssc_feat2_test.shape)"
   ]
  },
  {
   "cell_type": "markdown",
   "metadata": {},
   "source": [
    "### concatenated"
   ]
  },
  {
   "cell_type": "code",
   "execution_count": 23,
   "metadata": {
    "collapsed": false
   },
   "outputs": [],
   "source": [
    "# mfcc\n",
    "mfcc_train = np.concatenate((mfcc_feat1_train ,mfcc_feat2_train), axis=0)\n",
    "mfcc_test = np.concatenate((mfcc_feat1_test ,mfcc_feat2_test), axis=0)\n",
    "\n",
    "# d_mfcc\n",
    "d_mfcc_train = np.concatenate((d_mfcc_feat1_train, d_mfcc_feat2_train), axis=0)\n",
    "d_mfcc_test = np.concatenate((d_mfcc_feat1_test, d_mfcc_feat2_test), axis=0)\n",
    "\n",
    "# fbank\n",
    "fbank_train = np.concatenate((fbank_feat1_train, fbank_feat2_train), axis=0)\n",
    "fbank_test = np.concatenate((fbank_feat1_test, fbank_feat2_test), axis=0)\n",
    "\n",
    "# ssc\n",
    "ssc_train = np.concatenate((ssc_feat1_train, ssc_feat2_train), axis=0)\n",
    "ssc_test = np.concatenate((ssc_feat1_test, ssc_feat2_test), axis=0)"
   ]
  },
  {
   "cell_type": "code",
   "execution_count": 24,
   "metadata": {
    "collapsed": false
   },
   "outputs": [
    {
     "name": "stdout",
     "output_type": "stream",
     "text": [
      "(1338,)\n",
      "(631,)\n"
     ]
    }
   ],
   "source": [
    "y_train = np.concatenate((y1_train,y2_train), axis=0)\n",
    "y_test = np.concatenate((y1_test,y2_test), axis=0)\n",
    "print(y_train.shape)\n",
    "print(y_test.shape)"
   ]
  },
  {
   "cell_type": "code",
   "execution_count": 25,
   "metadata": {
    "collapsed": false
   },
   "outputs": [
    {
     "name": "stdout",
     "output_type": "stream",
     "text": [
      "(1338, 13)\n"
     ]
    }
   ],
   "source": [
    "print(mfcc_train.shape)"
   ]
  },
  {
   "cell_type": "code",
   "execution_count": 26,
   "metadata": {
    "collapsed": false
   },
   "outputs": [
    {
     "data": {
      "text/plain": [
       "SVC(C=1.0, cache_size=200, class_weight=None, coef0=0.0,\n",
       "  decision_function_shape=None, degree=3, gamma='auto', kernel='rbf',\n",
       "  max_iter=-1, probability=False, random_state=None, shrinking=True,\n",
       "  tol=0.001, verbose=False)"
      ]
     },
     "execution_count": 26,
     "metadata": {},
     "output_type": "execute_result"
    }
   ],
   "source": [
    "from sklearn import svm\n",
    "clf_mfcc = svm.SVC()\n",
    "clf_mfcc.fit(mfcc_train, y_train)"
   ]
  },
  {
   "cell_type": "code",
   "execution_count": 27,
   "metadata": {
    "collapsed": false
   },
   "outputs": [
    {
     "data": {
      "text/plain": [
       "SVC(C=1.0, cache_size=200, class_weight=None, coef0=0.0,\n",
       "  decision_function_shape=None, degree=3, gamma='auto', kernel='rbf',\n",
       "  max_iter=-1, probability=False, random_state=None, shrinking=True,\n",
       "  tol=0.001, verbose=False)"
      ]
     },
     "execution_count": 27,
     "metadata": {},
     "output_type": "execute_result"
    }
   ],
   "source": [
    "clf_d_mfcc = svm.SVC()\n",
    "clf_d_mfcc.fit(d_mfcc_train, y_train)\n"
   ]
  },
  {
   "cell_type": "code",
   "execution_count": 28,
   "metadata": {
    "collapsed": false
   },
   "outputs": [
    {
     "data": {
      "text/plain": [
       "SVC(C=1.0, cache_size=200, class_weight=None, coef0=0.0,\n",
       "  decision_function_shape=None, degree=3, gamma='auto', kernel='rbf',\n",
       "  max_iter=-1, probability=False, random_state=None, shrinking=True,\n",
       "  tol=0.001, verbose=False)"
      ]
     },
     "execution_count": 28,
     "metadata": {},
     "output_type": "execute_result"
    }
   ],
   "source": [
    "clf_fbank = svm.SVC()\n",
    "clf_fbank.fit(fbank_train, y_train)\n"
   ]
  },
  {
   "cell_type": "code",
   "execution_count": 29,
   "metadata": {
    "collapsed": false
   },
   "outputs": [
    {
     "data": {
      "text/plain": [
       "SVC(C=1.0, cache_size=200, class_weight=None, coef0=0.0,\n",
       "  decision_function_shape=None, degree=3, gamma='auto', kernel='rbf',\n",
       "  max_iter=-1, probability=False, random_state=None, shrinking=True,\n",
       "  tol=0.001, verbose=False)"
      ]
     },
     "execution_count": 29,
     "metadata": {},
     "output_type": "execute_result"
    }
   ],
   "source": [
    "clf_ssc = svm.SVC()\n",
    "clf_ssc.fit(ssc_train, y_train)\n"
   ]
  },
  {
   "cell_type": "code",
   "execution_count": 30,
   "metadata": {
    "collapsed": false,
    "scrolled": true
   },
   "outputs": [
    {
     "name": "stdout",
     "output_type": "stream",
     "text": [
      "(1338, 13)\n",
      "(631, 13)\n",
      "(631,)\n",
      "(631,)\n"
     ]
    }
   ],
   "source": [
    "print(mfcc_train.shape)\n",
    "print(mfcc_test.shape)\n",
    "y_pred_mfcc = clf_mfcc.predict(mfcc_test)\n",
    "y_pred_d_mfcc = clf_d_mfcc.predict(d_mfcc_test)\n",
    "y_pred_fbank = clf_fbank.predict(fbank_test)\n",
    "y_pred_ssc = clf_ssc.predict(ssc_test)\n",
    "print(y_test.shape)\n",
    "print(y_pred_ssc.shape)"
   ]
  },
  {
   "cell_type": "code",
   "execution_count": 31,
   "metadata": {
    "collapsed": false
   },
   "outputs": [
    {
     "name": "stdout",
     "output_type": "stream",
     "text": [
      "0.410497258589\n",
      "0.589830153072\n",
      "0.742485800808\n",
      "0.26285046729\n"
     ]
    },
    {
     "name": "stderr",
     "output_type": "stream",
     "text": [
      "/Users/bowonyang/anaconda3/lib/python3.6/site-packages/sklearn/metrics/classification.py:1113: UndefinedMetricWarning: F-score is ill-defined and being set to 0.0 in labels with no predicted samples.\n",
      "  'precision', 'predicted', average, warn_for)\n"
     ]
    }
   ],
   "source": [
    "from sklearn.metrics import f1_score\n",
    "print(f1_score(y_test, y_pred_mfcc, average='macro'))\n",
    "print(f1_score(y_test, y_pred_d_mfcc, average='macro'))\n",
    "print(f1_score(y_test, y_pred_fbank, average='macro'))\n",
    "print(f1_score(y_test, y_pred_ssc, average='macro'))"
   ]
  },
  {
   "cell_type": "markdown",
   "metadata": {},
   "source": [
    "### Joblib"
   ]
  },
  {
   "cell_type": "code",
   "execution_count": 32,
   "metadata": {
    "collapsed": false
   },
   "outputs": [],
   "source": [
    "from sklearn.externals import joblib\n",
    "filename = '/Users/bowonyang/workspace/uav/models/svm_mfcc_22050.joblib.pkl'\n",
    "joblib.dump(clf_mfcc, filename, compress=9)\n",
    "clf2 = joblib.load(filename)\n",
    "y_pred_joblib = clf2.predict(mfcc_test)"
   ]
  },
  {
   "cell_type": "code",
   "execution_count": 33,
   "metadata": {
    "collapsed": false
   },
   "outputs": [],
   "source": [
    "from sklearn.externals import joblib\n",
    "filename = '/Users/bowonyang/workspace/uav/models/svm_fbank_22050.joblib.pkl'\n",
    "joblib.dump(clf_fbank, filename, compress=9)\n",
    "clf2 = joblib.load(filename)\n",
    "y_pred_joblib = clf2.predict(fbank_test)"
   ]
  }
 ],
 "metadata": {
  "kernelspec": {
   "display_name": "Python 3",
   "language": "python",
   "name": "python3"
  },
  "language_info": {
   "codemirror_mode": {
    "name": "ipython",
    "version": 3
   },
   "file_extension": ".py",
   "mimetype": "text/x-python",
   "name": "python",
   "nbconvert_exporter": "python",
   "pygments_lexer": "ipython3",
   "version": "3.6.0"
  }
 },
 "nbformat": 4,
 "nbformat_minor": 2
}
