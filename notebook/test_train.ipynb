{
 "cells": [
  {
   "cell_type": "markdown",
   "metadata": {},
   "source": [
    "# test for train function"
   ]
  },
  {
   "cell_type": "code",
   "execution_count": 43,
   "metadata": {
    "collapsed": true
   },
   "outputs": [],
   "source": [
    "# author: seonghyeon cho"
   ]
  },
  {
   "cell_type": "code",
   "execution_count": 44,
   "metadata": {
    "collapsed": true
   },
   "outputs": [],
   "source": [
    "from python_speech_features import mfcc\n",
    "from python_speech_features import delta\n",
    "from python_speech_features import logfbank\n",
    "from python_speech_features import ssc\n",
    "from sklearn.externals import joblib\n",
    "from sklearn.metrics import f1_score\n",
    "from sklearn import svm\n",
    "import scipy.io.wavfile as wav\n",
    "import pandas as pd\n",
    "import numpy as np"
   ]
  },
  {
   "cell_type": "code",
   "execution_count": 45,
   "metadata": {},
   "outputs": [],
   "source": [
    "indoor_wav_path = \"../data/indoor_sound/indoor170719-001.wav\"\n",
    "drone_wav_path = \"../data/drone_sound/drone170719-001.wav\"\n",
    "# indoor_wav_path = \"../data/test_sound/sound1.wav\"\n",
    "# drone_wav_path = \"../data/test_sound/sound2.wav\"#for test\n",
    "\n",
    "# test_wav_path = \"../data/test_sound/sound1.wav\"#non drone?\n",
    "# test_wav_path = \"../data/drone_sound/drone170719-002.wav\n",
    "test_wav_path = \"../data/indoor_sound/indoor170726-001.wav\""
   ]
  },
  {
   "cell_type": "code",
   "execution_count": 46,
   "metadata": {
    "collapsed": true
   },
   "outputs": [],
   "source": [
    "(indoor_rate, indoor_sig) = wav.read(indoor_wav_path)\n",
    "(drone_rate, drone_sig) = wav.read(drone_wav_path)\n",
    "(test_rate, test_sig) = wav.read(test_wav_path)"
   ]
  },
  {
   "cell_type": "code",
   "execution_count": 47,
   "metadata": {
    "scrolled": false
   },
   "outputs": [
    {
     "name": "stdout",
     "output_type": "stream",
     "text": [
      "(0,)\n",
      "(10288, 13)\n",
      "test\n",
      "f1 score: 0.668735224586\n"
     ]
    }
   ],
   "source": [
    "calculated_features = np.empty(0)\n",
    "actual_labels = np.empty(0)\n",
    "\n",
    "cf = mfcc(indoor_sig, indoor_rate, nfft=2048)\n",
    "print(calculated_features.shape)\n",
    "print(cf.shape)\n",
    "print(\"test\")\n",
    "# calculated_features = np.concatenate((calculated_features, cf), axis=0)\n",
    "calculated_features = cf\n",
    "# print(calculated_features)\n",
    "actual_labels = np.concatenate((actual_labels, np.zeros(cf.shape[0])), axis=0)\n",
    "# print(actual_labels)\n",
    "cf = mfcc(drone_sig, drone_rate, nfft=2048)\n",
    "calculated_features = np.concatenate((calculated_features, cf), axis=0)\n",
    "actual_labels = np.concatenate((actual_labels, np.ones(cf.shape[0])), axis=0)\n",
    "\n",
    "calculated_model = svm.SVC()\n",
    "calculated_model.fit(calculated_features, actual_labels)\n",
    "#\n",
    "# calculated_model.reshape(-1, 1)\n",
    "cf_test = mfcc(test_sig, test_rate, nfft=2048)\n",
    "y_pred = calculated_model.predict(cf_test)\n",
    "\n",
    "test_label = np.random.randint(2, size=cf_test.shape[0])\n",
    "print(\"f1 score: %s\" % (f1_score(test_label, y_pred)))"
   ]
  },
  {
   "cell_type": "code",
   "execution_count": 48,
   "metadata": {},
   "outputs": [
    {
     "name": "stdout",
     "output_type": "stream",
     "text": [
      "I think there's a 99.56% probability of drone.\n"
     ]
    }
   ],
   "source": [
    "# print(y_pred)\n",
    "# print(y_pred.shape[0])\n",
    "print(\"I think there's a %.2f%% probability of drone.\"\n",
    "      % ((np.count_nonzero(y_pred)/y_pred.shape[0])*100))"
   ]
  },
  {
   "cell_type": "code",
   "execution_count": null,
   "metadata": {
    "collapsed": true
   },
   "outputs": [],
   "source": []
  }
 ],
 "metadata": {
  "kernelspec": {
   "display_name": "Python 3",
   "language": "python",
   "name": "python3"
  },
  "language_info": {
   "codemirror_mode": {
    "name": "ipython",
    "version": 3
   },
   "file_extension": ".py",
   "mimetype": "text/x-python",
   "name": "python",
   "nbconvert_exporter": "python",
   "pygments_lexer": "ipython3",
   "version": "3.6.1"
  }
 },
 "nbformat": 4,
 "nbformat_minor": 2
}
