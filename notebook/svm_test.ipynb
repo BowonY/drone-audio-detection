{
 "cells": [
  {
   "cell_type": "markdown",
   "metadata": {},
   "source": [
    "# SVM test"
   ]
  },
  {
   "cell_type": "code",
   "execution_count": 1,
   "metadata": {
    "collapsed": false
   },
   "outputs": [],
   "source": [
    "from python_speech_features import mfcc\n",
    "from python_speech_features import delta\n",
    "from python_speech_features import logfbank\n",
    "from python_speech_features import ssc\n",
    "import scipy.io.wavfile as wav\n",
    "import pandas as pd\n",
    "import numpy as np"
   ]
  },
  {
   "cell_type": "markdown",
   "metadata": {},
   "source": [
    "## test sound"
   ]
  },
  {
   "cell_type": "code",
   "execution_count": 2,
   "metadata": {
    "collapsed": true
   },
   "outputs": [],
   "source": [
    "(rate1,sig1) = wav.read(\"../data/test_sound/sound1.wav\")"
   ]
  },
  {
   "cell_type": "code",
   "execution_count": 3,
   "metadata": {
    "collapsed": true
   },
   "outputs": [],
   "source": [
    "(rate2,sig2) = wav.read(\"../data/test_sound/sound2.wav\")"
   ]
  },
  {
   "cell_type": "code",
   "execution_count": 4,
   "metadata": {
    "collapsed": true
   },
   "outputs": [],
   "source": [
    "sig1_train = sig1[1000:140000,]\n",
    "sig1_test = sig1[140001:,]\n",
    "sig2_train = sig2[1000:140000,]\n",
    "sig2_test = sig2[140001:,]\n",
    "#train = np.concatenate((sig1_train, sig2_train), axis=0)\n",
    "#test = np.concatenate((sig1_test, sig2_test), axis=0)"
   ]
  },
  {
   "cell_type": "code",
   "execution_count": 5,
   "metadata": {
    "collapsed": false
   },
   "outputs": [
    {
     "name": "stdout",
     "output_type": "stream",
     "text": [
      "(277504,)\n",
      "(281600,)\n"
     ]
    }
   ],
   "source": [
    "print(sig1.shape)\n",
    "print(sig2.shape)"
   ]
  },
  {
   "cell_type": "code",
   "execution_count": 19,
   "metadata": {
    "collapsed": false
   },
   "outputs": [
    {
     "name": "stdout",
     "output_type": "stream",
     "text": [
      "[   0    0    0 ..., -849 -746 -659]\n"
     ]
    }
   ],
   "source": [
    "print(sig1)"
   ]
  },
  {
   "cell_type": "markdown",
   "metadata": {},
   "source": [
    "### data 1, train data"
   ]
  },
  {
   "cell_type": "code",
   "execution_count": 6,
   "metadata": {
    "collapsed": true
   },
   "outputs": [],
   "source": [
    "mfcc_feat1 = mfcc(sig1_train,rate1,nfft=2048,)\n",
    "d_mfcc_feat1 = delta(mfcc_feat1, 2)\n",
    "fbank_feat1 = logfbank(sig1_train,rate1, nfft=2048)\n",
    "ssc_feat1 = ssc(sig1_train,rate1, nfft=2048)\n",
    "y1_train = np.zeros(314)"
   ]
  },
  {
   "cell_type": "code",
   "execution_count": 7,
   "metadata": {
    "collapsed": false
   },
   "outputs": [
    {
     "name": "stdout",
     "output_type": "stream",
     "text": [
      "(314, 13)\n",
      "(314, 13)\n",
      "(314, 26)\n",
      "(314, 26)\n"
     ]
    }
   ],
   "source": [
    "print(mfcc_feat1.shape)\n",
    "print(d_mfcc_feat1.shape)\n",
    "print(fbank_feat1.shape)\n",
    "print(ssc_feat1.shape)"
   ]
  },
  {
   "cell_type": "code",
   "execution_count": 20,
   "metadata": {
    "collapsed": false
   },
   "outputs": [
    {
     "name": "stdout",
     "output_type": "stream",
     "text": [
      "[[ -3.60436534e+01   0.00000000e+00  -3.20763172e-14 ...,  -3.27769755e-13\n",
      "    0.00000000e+00   3.59484803e-13]\n",
      " [ -3.60436534e+01   0.00000000e+00  -3.20763172e-14 ...,  -3.27769755e-13\n",
      "    0.00000000e+00   3.59484803e-13]\n",
      " [ -3.60436534e+01   0.00000000e+00  -3.20763172e-14 ...,  -3.27769755e-13\n",
      "    0.00000000e+00   3.59484803e-13]\n",
      " ..., \n",
      " [  1.48078562e+01  -2.56515304e-01   4.00540657e+00 ...,   5.60298008e-02\n",
      "   -5.46823492e+00   1.42812225e+00]\n",
      " [  1.56026280e+01  -4.84626730e+00  -3.11028673e+00 ...,   1.47072574e+00\n",
      "   -5.90414493e+00   9.78158971e+00]\n",
      " [  1.57383308e+01  -5.77982124e+00  -6.08721314e+00 ...,   4.85872217e+00\n",
      "   -5.28315863e+00   8.48179218e+00]]\n"
     ]
    }
   ],
   "source": [
    "print(mfcc_feat1)"
   ]
  },
  {
   "cell_type": "markdown",
   "metadata": {},
   "source": [
    "### data 1, test data"
   ]
  },
  {
   "cell_type": "code",
   "execution_count": 8,
   "metadata": {
    "collapsed": true
   },
   "outputs": [],
   "source": [
    "mfcc_feat1_test = mfcc(sig1_test,rate1,nfft=2048,)\n",
    "d_mfcc_feat1_test = delta(mfcc_feat1_test, 2)\n",
    "fbank_feat1_test = logfbank(sig1_test,rate1, nfft=2048)\n",
    "ssc_feat1_test = ssc(sig1_test,rate1, nfft=2048)\n",
    "y1_test = np.zeros(311)"
   ]
  },
  {
   "cell_type": "code",
   "execution_count": 9,
   "metadata": {
    "collapsed": false
   },
   "outputs": [
    {
     "name": "stdout",
     "output_type": "stream",
     "text": [
      "(311, 13)\n",
      "(311, 13)\n",
      "(311, 26)\n",
      "(311, 26)\n"
     ]
    }
   ],
   "source": [
    "print(mfcc_feat1_test.shape)\n",
    "print(d_mfcc_feat1_test.shape)\n",
    "print(fbank_feat1_test.shape)\n",
    "print(ssc_feat1_test.shape)"
   ]
  },
  {
   "cell_type": "markdown",
   "metadata": {},
   "source": [
    "### data 2, train data"
   ]
  },
  {
   "cell_type": "code",
   "execution_count": 10,
   "metadata": {
    "collapsed": true
   },
   "outputs": [],
   "source": [
    "mfcc_feat2_train = mfcc(sig2_train,rate2,nfft=2048)\n",
    "#np.savetxt('../data/mfcc2.txt', mfcc_feat2)\n",
    "d_mfcc_feat2_train = delta(mfcc_feat2_train, 2)\n",
    "#np.savetxt('../data/dmfcc2.csv', d_mfcc_feat2_train)\n",
    "fbank_feat2_train = logfbank(sig2_train,rate2, nfft=2048)\n",
    "#np.savetxt('../data/dmfcc2.csv', fbank_feat2_train)\n",
    "ssc_feat2_train = ssc(sig2_train,rate2, nfft=2048)\n",
    "#np.savetxt('../data/ssc2.csv', ssc_feat2_train)\n",
    "y2_train = np.ones(314)"
   ]
  },
  {
   "cell_type": "code",
   "execution_count": 11,
   "metadata": {
    "collapsed": false
   },
   "outputs": [
    {
     "name": "stdout",
     "output_type": "stream",
     "text": [
      "(314, 13)\n",
      "(314, 13)\n",
      "(314, 26)\n",
      "(314, 26)\n"
     ]
    }
   ],
   "source": [
    "print(mfcc_feat1.shape)\n",
    "print(d_mfcc_feat1.shape)\n",
    "print(fbank_feat1.shape)\n",
    "print(ssc_feat1.shape)"
   ]
  },
  {
   "cell_type": "markdown",
   "metadata": {},
   "source": [
    "### data 2, test data"
   ]
  },
  {
   "cell_type": "code",
   "execution_count": 12,
   "metadata": {
    "collapsed": true
   },
   "outputs": [],
   "source": [
    "mfcc_feat2_test = mfcc(sig2_test,rate2,nfft=2048)\n",
    "d_mfcc_feat2_test = delta(mfcc_feat2_test, 2)\n",
    "fbank_feat2_test = logfbank(sig2_test,rate2, nfft=2048)\n",
    "ssc_feat2_test = ssc(sig2_test,rate2, nfft=2048)\n",
    "y2_test = np.ones(320)"
   ]
  },
  {
   "cell_type": "code",
   "execution_count": 13,
   "metadata": {
    "collapsed": false
   },
   "outputs": [
    {
     "name": "stdout",
     "output_type": "stream",
     "text": [
      "(320, 13)\n",
      "(320, 13)\n",
      "(320, 26)\n",
      "(320, 26)\n"
     ]
    }
   ],
   "source": [
    "print(mfcc_feat2_test.shape)\n",
    "print(d_mfcc_feat2_test.shape)\n",
    "print(fbank_feat2_test.shape)\n",
    "print(ssc_feat2_test.shape)"
   ]
  },
  {
   "cell_type": "markdown",
   "metadata": {},
   "source": [
    "### concatenated"
   ]
  },
  {
   "cell_type": "code",
   "execution_count": 14,
   "metadata": {
    "collapsed": false
   },
   "outputs": [],
   "source": [
    "# mfcc\n",
    "mfcc_train = np.concatenate((mfcc_feat1 ,mfcc_feat2_train), axis=0)\n",
    "mfcc_test = np.concatenate((mfcc_feat1_test ,mfcc_feat2_test), axis=0)\n",
    "\n",
    "# d_mfcc\n",
    "d_mfcc_train = np.concatenate((d_mfcc_feat1, d_mfcc_feat2_train), axis=0)\n",
    "d_mfcc_test = np.concatenate((d_mfcc_feat1_test, d_mfcc_feat2_test), axis=0)\n",
    "\n",
    "# fbank\n",
    "fbank_train = np.concatenate((fbank_feat1, fbank_feat2_train), axis=0)\n",
    "fbank_test = np.concatenate((fbank_feat1_test, fbank_feat2_test), axis=0)\n",
    "\n",
    "# ssc\n",
    "ssc_train = np.concatenate((ssc_feat1, ssc_feat2_train), axis=0)\n",
    "ssc_test = np.concatenate((ssc_feat1_test, ssc_feat2_test), axis=0)"
   ]
  },
  {
   "cell_type": "code",
   "execution_count": 15,
   "metadata": {
    "collapsed": false
   },
   "outputs": [
    {
     "name": "stdout",
     "output_type": "stream",
     "text": [
      "(628,)\n",
      "(631,)\n"
     ]
    }
   ],
   "source": [
    "y_train = np.concatenate((y1_train,y2_train), axis=0)\n",
    "y_test = np.concatenate((y1_test,y2_test), axis=0)\n",
    "print(y_train.shape)\n",
    "print(y_test.shape)"
   ]
  },
  {
   "cell_type": "code",
   "execution_count": 16,
   "metadata": {
    "collapsed": false
   },
   "outputs": [
    {
     "data": {
      "text/plain": [
       "SVC(C=1.0, cache_size=200, class_weight=None, coef0=0.0,\n",
       "  decision_function_shape=None, degree=3, gamma='auto', kernel='rbf',\n",
       "  max_iter=-1, probability=False, random_state=None, shrinking=True,\n",
       "  tol=0.001, verbose=False)"
      ]
     },
     "execution_count": 16,
     "metadata": {},
     "output_type": "execute_result"
    }
   ],
   "source": [
    "from sklearn import svm\n",
    "clf_mfcc = svm.SVC()\n",
    "clf_mfcc.fit(mfcc_train, y_train)\n",
    "clf_d_mfcc = svm.SVC()\n",
    "clf_d_mfcc.fit(d_mfcc_train, y_train)\n",
    "clf_fbank = svm.SVC()\n",
    "clf_fbank.fit(fbank_train, y_train)\n",
    "clf_ssc = svm.SVC()\n",
    "clf_ssc.fit(ssc_train, y_train)\n"
   ]
  },
  {
   "cell_type": "code",
   "execution_count": 17,
   "metadata": {
    "collapsed": false
   },
   "outputs": [
    {
     "name": "stdout",
     "output_type": "stream",
     "text": [
      "(628, 13)\n",
      "(631, 13)\n"
     ]
    }
   ],
   "source": [
    "print(mfcc_train.shape)\n",
    "print(mfcc_test.shape)\n",
    "y_pred_mfcc = clf_mfcc.predict(mfcc_test)\n",
    "y_pred_d_mfcc = clf_d_mfcc.predict(d_mfcc_test)\n",
    "y_pred_fbank = clf_fbank.predict(fbank_test)\n",
    "y_pred_ssc = clf_ssc.predict(ssc_test)\n"
   ]
  },
  {
   "cell_type": "code",
   "execution_count": 21,
   "metadata": {
    "collapsed": false
   },
   "outputs": [
    {
     "name": "stdout",
     "output_type": "stream",
     "text": [
      "[ 0.  0.  0.  0.  0.  0.  0.  0.  0.  0.  0.  0.  0.  0.  0.  0.  0.  0.\n",
      "  0.  0.  0.  0.  0.  0.  0.  0.  0.  0.  0.  0.  0.  0.  0.  0.  0.  0.\n",
      "  0.  0.  0.  0.  0.  0.  0.  0.  0.  0.  0.  0.  0.  0.  0.  0.  0.  0.\n",
      "  0.  0.  0.  0.  0.  0.  0.  0.  0.  0.  0.  0.  0.  0.  0.  0.  0.  0.\n",
      "  1.  1.  0.  0.  1.  0.  0.  0.  0.  0.  0.  0.  0.  0.  0.  0.  0.  0.\n",
      "  0.  0.  0.  0.  0.  0.  0.  0.  0.  0.  0.  0.  0.  0.  0.  0.  0.  0.\n",
      "  0.  0.  0.  0.  0.  0.  0.  0.  0.  0.  0.  0.  0.  0.  0.  0.  0.  0.\n",
      "  0.  0.  0.  0.  0.  0.  0.  0.  0.  0.  0.  0.  0.  0.  0.  1.  0.  1.\n",
      "  1.  1.  0.  1.  1.  0.  0.  0.  0.  0.  0.  0.  0.  0.  0.  0.  0.  0.\n",
      "  0.  0.  0.  0.  0.  0.  0.  0.  0.  0.  0.  0.  0.  0.  0.  0.  0.  0.\n",
      "  0.  0.  0.  0.  0.  0.  0.  0.  0.  0.  0.  0.  0.  0.  0.  0.  0.  0.\n",
      "  0.  0.  0.  0.  0.  0.  0.  0.  0.  0.  0.  0.  0.  0.  0.  0.  0.  0.\n",
      "  0.  0.  0.  0.  0.  0.  0.  0.  0.  0.  0.  0.  0.  0.  0.  0.  0.  0.\n",
      "  0.  0.  0.  0.  0.  0.  0.  0.  0.  0.  0.  0.  0.  0.  0.  0.  0.  0.\n",
      "  0.  0.  0.  0.  0.  0.  0.  0.  0.  0.  0.  0.  0.  0.  0.  0.  1.  0.\n",
      "  0.  0.  1.  0.  0.  0.  0.  0.  0.  0.  0.  0.  0.  0.  0.  0.  0.  0.\n",
      "  0.  0.  0.  0.  0.  1.  1.  0.  0.  0.  0.  0.  0.  0.  0.  0.  1.  1.\n",
      "  0.  0.  0.  0.  0.  1.  1.  1.  1.  1.  1.  1.  1.  1.  0.  1.  1.  1.\n",
      "  0.  0.  0.  1.  0.  1.  0.  1.  1.  1.  1.  1.  0.  0.  0.  0.  0.  1.\n",
      "  1.  1.  1.  0.  0.  0.  1.  1.  1.  1.  1.  1.  1.  1.  1.  1.  1.  1.\n",
      "  0.  1.  1.  1.  1.  1.  1.  1.  0.  0.  0.  0.  1.  1.  1.  1.  1.  1.\n",
      "  1.  1.  1.  1.  1.  1.  1.  1.  1.  1.  1.  0.  0.  0.  0.  0.  0.  0.\n",
      "  1.  1.  0.  0.  0.  0.  0.  0.  0.  0.  0.  0.  0.  0.  0.  0.  1.  1.\n",
      "  1.  1.  1.  1.  1.  1.  1.  1.  1.  0.  0.  1.  0.  1.  0.  1.  0.  1.\n",
      "  1.  1.  0.  1.  1.  1.  1.  0.  0.  0.  0.  1.  0.  1.  1.  1.  1.  0.\n",
      "  0.  0.  0.  0.  0.  0.  0.  0.  0.  0.  0.  0.  0.  1.  1.  1.  0.  0.\n",
      "  1.  1.  1.  1.  0.  1.  1.  1.  1.  1.  1.  1.  1.  1.  1.  1.  1.  1.\n",
      "  1.  1.  1.  1.  1.  1.  1.  1.  1.  1.  1.  1.  0.  1.  1.  1.  1.  0.\n",
      "  1.  1.  1.  1.  1.  1.  1.  1.  1.  1.  1.  1.  1.  1.  0.  0.  1.  1.\n",
      "  1.  0.  0.  0.  0.  0.  0.  0.  0.  0.  0.  0.  0.  1.  0.  1.  0.  0.\n",
      "  0.  0.  0.  0.  0.  0.  0.  0.  1.  1.  1.  1.  1.  1.  1.  1.  0.  0.\n",
      "  0.  0.  1.  1.  1.  0.  0.  0.  0.  0.  0.  0.  1.  1.  1.  0.  0.  0.\n",
      "  0.  1.  1.  0.  1.  1.  1.  1.  1.  0.  1.  1.  0.  0.  0.  0.  1.  1.\n",
      "  1.  1.  1.  1.  1.  1.  1.  0.  0.  0.  1.  0.  1.  0.  0.  1.  0.  1.\n",
      "  1.  1.  1.  0.  0.  0.  0.  0.  1.  1.  1.  0.  0.  0.  1.  1.  1.  1.\n",
      "  0.]\n"
     ]
    }
   ],
   "source": [
    "print(y_pred_mfcc)"
   ]
  },
  {
   "cell_type": "code",
   "execution_count": 18,
   "metadata": {
    "collapsed": false
   },
   "outputs": [
    {
     "name": "stdout",
     "output_type": "stream",
     "text": [
      "0.76000589914\n",
      "0.652247110427\n",
      "0.899901041706\n",
      "0.330148619958\n"
     ]
    },
    {
     "name": "stderr",
     "output_type": "stream",
     "text": [
      "/Users/bowonyang/anaconda3/lib/python3.6/site-packages/sklearn/metrics/classification.py:1113: UndefinedMetricWarning: F-score is ill-defined and being set to 0.0 in labels with no predicted samples.\n",
      "  'precision', 'predicted', average, warn_for)\n"
     ]
    }
   ],
   "source": [
    "from sklearn.metrics import f1_score\n",
    "print(f1_score(y_test, y_pred_mfcc, average='macro'))\n",
    "print(f1_score(y_test, y_pred_d_mfcc, average='macro'))\n",
    "print(f1_score(y_test, y_pred_fbank, average='macro'))\n",
    "print(f1_score(y_test, y_pred_ssc, average='macro'))"
   ]
  }
 ],
 "metadata": {
  "kernelspec": {
   "display_name": "Python 3",
   "language": "python",
   "name": "python3"
  },
  "language_info": {
   "codemirror_mode": {
    "name": "ipython",
    "version": 3
   },
   "file_extension": ".py",
   "mimetype": "text/x-python",
   "name": "python",
   "nbconvert_exporter": "python",
   "pygments_lexer": "ipython3",
   "version": "3.6.0"
  }
 },
 "nbformat": 4,
 "nbformat_minor": 2
}
