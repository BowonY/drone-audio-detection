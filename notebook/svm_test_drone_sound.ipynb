{
 "cells": [
  {
   "cell_type": "markdown",
   "metadata": {},
   "source": [
    "# SVM test"
   ]
  },
  {
   "cell_type": "code",
   "execution_count": 1,
   "metadata": {
    "collapsed": false
   },
   "outputs": [],
   "source": [
    "from python_speech_features import mfcc\n",
    "from python_speech_features import delta\n",
    "from python_speech_features import logfbank\n",
    "from python_speech_features import ssc\n",
    "import scipy.io.wavfile as wav\n",
    "import pandas as pd\n",
    "import numpy as np"
   ]
  },
  {
   "cell_type": "markdown",
   "metadata": {},
   "source": [
    "## test sound"
   ]
  },
  {
   "cell_type": "code",
   "execution_count": 3,
   "metadata": {
    "collapsed": true
   },
   "outputs": [],
   "source": [
    "(rate1,sig1) = wav.read(\"../data/indoor_sound/indoor170719-001.wav\")"
   ]
  },
  {
   "cell_type": "code",
   "execution_count": 4,
   "metadata": {
    "collapsed": false
   },
   "outputs": [],
   "source": [
    "(rate2,sig2) = wav.read(\"../data/drone_sound/drone170719-001.wav\")"
   ]
  },
  {
   "cell_type": "code",
   "execution_count": 29,
   "metadata": {
    "collapsed": false
   },
   "outputs": [
    {
     "name": "stdout",
     "output_type": "stream",
     "text": [
      "44100 44100\n"
     ]
    }
   ],
   "source": [
    "print(rate1,rate2)"
   ]
  },
  {
   "cell_type": "code",
   "execution_count": 4,
   "metadata": {
    "collapsed": false
   },
   "outputs": [
    {
     "name": "stdout",
     "output_type": "stream",
     "text": [
      "(4537344,)\n"
     ]
    }
   ],
   "source": [
    "print(sig1.shape)"
   ]
  },
  {
   "cell_type": "code",
   "execution_count": 5,
   "metadata": {
    "collapsed": false
   },
   "outputs": [
    {
     "name": "stdout",
     "output_type": "stream",
     "text": [
      "(11416576,)\n"
     ]
    }
   ],
   "source": [
    "print(sig2.shape)"
   ]
  },
  {
   "cell_type": "code",
   "execution_count": 6,
   "metadata": {
    "collapsed": false
   },
   "outputs": [
    {
     "name": "stdout",
     "output_type": "stream",
     "text": [
      "3629075\n"
     ]
    }
   ],
   "source": [
    "print(int((sig1.shape[0]-1000)*0.8))"
   ]
  },
  {
   "cell_type": "code",
   "execution_count": 12,
   "metadata": {
    "collapsed": false
   },
   "outputs": [
    {
     "data": {
      "text/plain": [
       "2283315.0"
      ]
     },
     "execution_count": 12,
     "metadata": {},
     "output_type": "execute_result"
    }
   ],
   "source": [
    "sig2.shape[0]/2"
   ]
  },
  {
   "cell_type": "code",
   "execution_count": 5,
   "metadata": {
    "collapsed": false
   },
   "outputs": [
    {
     "name": "stdout",
     "output_type": "stream",
     "text": [
      "5708288\n"
     ]
    }
   ],
   "source": [
    "print(int(sig2.shape[0]/2))\n",
    "half=int(sig2.shape[0]/2)\n",
    "ninety=int(sig2.shape[0]*0.9)"
   ]
  },
  {
   "cell_type": "code",
   "execution_count": 6,
   "metadata": {
    "collapsed": false
   },
   "outputs": [
    {
     "name": "stdout",
     "output_type": "stream",
     "text": [
      "2283315.0\n"
     ]
    }
   ],
   "source": [
    "sig2 = sig2[half:ninety]\n",
    "print(sig2.shape[0]/2)"
   ]
  },
  {
   "cell_type": "code",
   "execution_count": 10,
   "metadata": {
    "collapsed": false
   },
   "outputs": [
    {
     "name": "stdout",
     "output_type": "stream",
     "text": [
      "2283315\n"
     ]
    }
   ],
   "source": [
    "print(int(sig2.shape[0]/2))"
   ]
  },
  {
   "cell_type": "code",
   "execution_count": 11,
   "metadata": {
    "collapsed": true
   },
   "outputs": [],
   "source": [
    "sig2 = sig2[:5000000]"
   ]
  },
  {
   "cell_type": "code",
   "execution_count": 7,
   "metadata": {
    "collapsed": false
   },
   "outputs": [],
   "source": [
    "sig1_80_point = int((sig1.shape[0]-1000)*0.8)\n",
    "sig2_80_point = int((sig2.shape[0]-1000)*0.8)\n",
    "sig1_train = sig1[1000:sig1_80_point,]\n",
    "sig1_test = sig1[sig1_80_point+1:,]\n",
    "sig2_train = sig2[1000:sig2_80_point,]\n",
    "sig2_test = sig2[sig2_80_point+1:,]\n",
    "#train = np.concatenate((sig1_train, sig2_train), axis=0)\n",
    "#test = np.concatenate((sig1_test, sig2_test), axis=0)"
   ]
  },
  {
   "cell_type": "code",
   "execution_count": 8,
   "metadata": {
    "collapsed": false
   },
   "outputs": [
    {
     "name": "stdout",
     "output_type": "stream",
     "text": [
      "(4537344,)\n",
      "(4566630,)\n"
     ]
    }
   ],
   "source": [
    "print(sig1.shape)\n",
    "print(sig2.shape)"
   ]
  },
  {
   "cell_type": "code",
   "execution_count": 12,
   "metadata": {
    "collapsed": false
   },
   "outputs": [
    {
     "name": "stdout",
     "output_type": "stream",
     "text": [
      "[  0   0   0 ..., 390 454 505]\n"
     ]
    }
   ],
   "source": [
    "print(sig1)"
   ]
  },
  {
   "cell_type": "code",
   "execution_count": 9,
   "metadata": {
    "collapsed": false
   },
   "outputs": [
    {
     "data": {
      "image/png": "[encoded data removed]",
      "text/plain": [
       "<matplotlib.figure.Figure at 0x10c14d550>"
      ]
     },
     "metadata": {},
     "output_type": "display_data"
    }
   ],
   "source": [
    "# matplotlib for displaying the output\n",
    "import matplotlib.pyplot as plt\n",
    "import matplotlib.style as ms\n",
    "ms.use('seaborn-muted')\n",
    "plt.figure(figsize=(12,4))\n",
    "plt.plot(sig1)\n",
    "plt.show()"
   ]
  },
  {
   "cell_type": "code",
   "execution_count": 10,
   "metadata": {
    "collapsed": false
   },
   "outputs": [
    {
     "data": {
      "image/png": "[encoded data removed]",
      "text/plain": [
       "<matplotlib.figure.Figure at 0x10c14d198>"
      ]
     },
     "metadata": {},
     "output_type": "display_data"
    }
   ],
   "source": [
    "plt.figure(figsize=(12,4))\n",
    "plt.plot(sig2)\n",
    "plt.show()"
   ]
  },
  {
   "cell_type": "markdown",
   "metadata": {},
   "source": [
    "### data 1, train data"
   ]
  },
  {
   "cell_type": "code",
   "execution_count": 12,
   "metadata": {
    "collapsed": false
   },
   "outputs": [],
   "source": [
    "mfcc_feat1_train = mfcc(sig1_train,rate1,nfft=2048,)\n",
    "d_mfcc_feat1_train = delta(mfcc_feat1_train, 2)\n",
    "fbank_feat1_train = logfbank(sig1_train,rate1, nfft=2048)\n",
    "ssc_feat1_train = ssc(sig1_train,rate1, nfft=2048)\n",
    "y1_train = np.zeros(mfcc_feat1_train.shape[0])"
   ]
  },
  {
   "cell_type": "code",
   "execution_count": 13,
   "metadata": {
    "collapsed": false
   },
   "outputs": [
    {
     "name": "stdout",
     "output_type": "stream",
     "text": [
      "(8226, 13)\n",
      "(8226, 13)\n",
      "(8226, 26)\n",
      "(8226, 26)\n"
     ]
    }
   ],
   "source": [
    "print(mfcc_feat1_train.shape)\n",
    "print(d_mfcc_feat1_train.shape)\n",
    "print(fbank_feat1_train.shape)\n",
    "print(ssc_feat1_train.shape)"
   ]
  },
  {
   "cell_type": "code",
   "execution_count": 14,
   "metadata": {
    "collapsed": false
   },
   "outputs": [
    {
     "name": "stdout",
     "output_type": "stream",
     "text": [
      "[[ -3.60436534e+01   0.00000000e+00  -3.20763172e-14 ...,  -3.27769755e-13\n",
      "    0.00000000e+00   3.59484803e-13]\n",
      " [ -3.60436534e+01   0.00000000e+00  -3.20763172e-14 ...,  -3.27769755e-13\n",
      "    0.00000000e+00   3.59484803e-13]\n",
      " [ -3.60436534e+01   0.00000000e+00  -3.20763172e-14 ...,  -3.27769755e-13\n",
      "    0.00000000e+00   3.59484803e-13]\n",
      " ..., \n",
      " [  1.50995028e+01  -3.73788889e+00   8.00095330e-01 ...,  -2.43584686e+00\n",
      "    1.23978340e+00   1.98814398e+00]\n",
      " [  1.50393448e+01  -3.94899802e+00  -3.48417463e-01 ...,  -5.31985917e+00\n",
      "   -2.15810761e+00  -1.14387017e-01]\n",
      " [  1.47172700e+01  -3.73521337e+00  -3.86663437e-02 ...,  -1.01576785e+01\n",
      "   -5.80260294e+00   1.32945482e+00]]\n"
     ]
    }
   ],
   "source": [
    "print(mfcc_feat1_train)"
   ]
  },
  {
   "cell_type": "markdown",
   "metadata": {},
   "source": [
    "### data 1, test data"
   ]
  },
  {
   "cell_type": "code",
   "execution_count": 15,
   "metadata": {
    "collapsed": true
   },
   "outputs": [],
   "source": [
    "mfcc_feat1_test = mfcc(sig1_test,rate1,nfft=2048,)\n",
    "d_mfcc_feat1_test = delta(mfcc_feat1_test, 2)\n",
    "fbank_feat1_test = logfbank(sig1_test,rate1, nfft=2048)\n",
    "ssc_feat1_test = ssc(sig1_test,rate1, nfft=2048)\n",
    "y1_test = np.zeros(mfcc_feat1_test.shape[0])"
   ]
  },
  {
   "cell_type": "code",
   "execution_count": 16,
   "metadata": {
    "collapsed": false
   },
   "outputs": [
    {
     "name": "stdout",
     "output_type": "stream",
     "text": [
      "(2059, 13)\n",
      "(2059, 13)\n",
      "(2059, 26)\n",
      "(2059, 26)\n"
     ]
    }
   ],
   "source": [
    "print(mfcc_feat1_test.shape)\n",
    "print(d_mfcc_feat1_test.shape)\n",
    "print(fbank_feat1_test.shape)\n",
    "print(ssc_feat1_test.shape)"
   ]
  },
  {
   "cell_type": "markdown",
   "metadata": {},
   "source": [
    "### data 2, train data"
   ]
  },
  {
   "cell_type": "code",
   "execution_count": 17,
   "metadata": {
    "collapsed": false
   },
   "outputs": [],
   "source": [
    "mfcc_feat2_train = mfcc(sig2_train,rate2,nfft=2048)\n",
    "#np.savetxt('../data/mfcc2.txt', mfcc_feat2)\n",
    "d_mfcc_feat2_train = delta(mfcc_feat2_train, 2)\n",
    "#np.savetxt('../data/dmfcc2.csv', d_mfcc_feat2_train)\n",
    "fbank_feat2_train = logfbank(sig2_train,rate2, nfft=2048)\n",
    "#np.savetxt('../data/dmfcc2.csv', fbank_feat2_train)\n",
    "ssc_feat2_train = ssc(sig2_train,rate2, nfft=2048)\n",
    "#np.savetxt('../data/ssc2.csv', ssc_feat2_train)\n",
    "y2_train = np.ones(mfcc_feat2_train.shape[0])"
   ]
  },
  {
   "cell_type": "code",
   "execution_count": 19,
   "metadata": {
    "collapsed": false
   },
   "outputs": [
    {
     "name": "stdout",
     "output_type": "stream",
     "text": [
      "(8226, 13)\n",
      "(8226, 13)\n",
      "(8226, 26)\n",
      "(8226, 26)\n"
     ]
    }
   ],
   "source": [
    "print(mfcc_feat1_train.shape)\n",
    "print(d_mfcc_feat1_train.shape)\n",
    "print(fbank_feat1_train.shape)\n",
    "print(ssc_feat1_train.shape)"
   ]
  },
  {
   "cell_type": "markdown",
   "metadata": {},
   "source": [
    "### data 2, test data"
   ]
  },
  {
   "cell_type": "code",
   "execution_count": 20,
   "metadata": {
    "collapsed": true
   },
   "outputs": [],
   "source": [
    "mfcc_feat2_test = mfcc(sig2_test,rate2,nfft=2048)\n",
    "d_mfcc_feat2_test = delta(mfcc_feat2_test, 2)\n",
    "fbank_feat2_test = logfbank(sig2_test,rate2, nfft=2048)\n",
    "ssc_feat2_test = ssc(sig2_test,rate2, nfft=2048)\n",
    "y2_test = np.ones(mfcc_feat2_test.shape[0])"
   ]
  },
  {
   "cell_type": "code",
   "execution_count": 21,
   "metadata": {
    "collapsed": false
   },
   "outputs": [
    {
     "name": "stdout",
     "output_type": "stream",
     "text": [
      "(2072, 13)\n",
      "(2072, 13)\n",
      "(2072, 26)\n",
      "(2072, 26)\n"
     ]
    }
   ],
   "source": [
    "print(mfcc_feat2_test.shape)\n",
    "print(d_mfcc_feat2_test.shape)\n",
    "print(fbank_feat2_test.shape)\n",
    "print(ssc_feat2_test.shape)"
   ]
  },
  {
   "cell_type": "markdown",
   "metadata": {},
   "source": [
    "### concatenated"
   ]
  },
  {
   "cell_type": "code",
   "execution_count": 22,
   "metadata": {
    "collapsed": false
   },
   "outputs": [],
   "source": [
    "# mfcc\n",
    "mfcc_train = np.concatenate((mfcc_feat1_train ,mfcc_feat2_train), axis=0)\n",
    "mfcc_test = np.concatenate((mfcc_feat1_test ,mfcc_feat2_test), axis=0)\n",
    "\n",
    "# d_mfcc\n",
    "d_mfcc_train = np.concatenate((d_mfcc_feat1_train, d_mfcc_feat2_train), axis=0)\n",
    "d_mfcc_test = np.concatenate((d_mfcc_feat1_test, d_mfcc_feat2_test), axis=0)\n",
    "\n",
    "# fbank\n",
    "fbank_train = np.concatenate((fbank_feat1_train, fbank_feat2_train), axis=0)\n",
    "fbank_test = np.concatenate((fbank_feat1_test, fbank_feat2_test), axis=0)\n",
    "\n",
    "# ssc\n",
    "ssc_train = np.concatenate((ssc_feat1_train, ssc_feat2_train), axis=0)\n",
    "ssc_test = np.concatenate((ssc_feat1_test, ssc_feat2_test), axis=0)"
   ]
  },
  {
   "cell_type": "code",
   "execution_count": 23,
   "metadata": {
    "collapsed": false
   },
   "outputs": [
    {
     "name": "stdout",
     "output_type": "stream",
     "text": [
      "(16505,)\n",
      "(4131,)\n"
     ]
    }
   ],
   "source": [
    "y_train = np.concatenate((y1_train,y2_train), axis=0)\n",
    "y_test = np.concatenate((y1_test,y2_test), axis=0)\n",
    "print(y_train.shape)\n",
    "print(y_test.shape)"
   ]
  },
  {
   "cell_type": "code",
   "execution_count": 24,
   "metadata": {
    "collapsed": false
   },
   "outputs": [
    {
     "name": "stdout",
     "output_type": "stream",
     "text": [
      "(16505, 13) (16505,)\n"
     ]
    }
   ],
   "source": [
    "print(mfcc_train.shape, y_train.shape)"
   ]
  },
  {
   "cell_type": "code",
   "execution_count": null,
   "metadata": {
    "collapsed": true
   },
   "outputs": [],
   "source": []
  },
  {
   "cell_type": "code",
   "execution_count": 25,
   "metadata": {
    "collapsed": false
   },
   "outputs": [
    {
     "data": {
      "text/plain": [
       "SVC(C=1.0, cache_size=200, class_weight=None, coef0=0.0,\n",
       "  decision_function_shape=None, degree=3, gamma='auto', kernel='rbf',\n",
       "  max_iter=-1, probability=False, random_state=None, shrinking=True,\n",
       "  tol=0.001, verbose=False)"
      ]
     },
     "execution_count": 25,
     "metadata": {},
     "output_type": "execute_result"
    }
   ],
   "source": [
    "from sklearn import svm\n",
    "clf_mfcc = svm.SVC()\n",
    "clf_mfcc.fit(mfcc_train, y_train)\n",
    "clf_d_mfcc = svm.SVC()\n",
    "clf_d_mfcc.fit(d_mfcc_train, y_train)\n",
    "clf_fbank = svm.SVC()\n",
    "clf_fbank.fit(fbank_train, y_train)\n",
    "clf_ssc = svm.SVC()\n",
    "clf_ssc.fit(ssc_train, y_train)\n"
   ]
  },
  {
   "cell_type": "code",
   "execution_count": 26,
   "metadata": {
    "collapsed": false
   },
   "outputs": [
    {
     "name": "stdout",
     "output_type": "stream",
     "text": [
      "(16505, 13)\n",
      "(4131, 13)\n"
     ]
    }
   ],
   "source": [
    "print(mfcc_train.shape)\n",
    "print(mfcc_test.shape)\n",
    "y_pred_mfcc = clf_mfcc.predict(mfcc_test)\n",
    "y_pred_d_mfcc = clf_d_mfcc.predict(d_mfcc_test)\n",
    "y_pred_fbank = clf_fbank.predict(fbank_test)\n",
    "y_pred_ssc = clf_ssc.predict(ssc_test)\n"
   ]
  },
  {
   "cell_type": "code",
   "execution_count": 27,
   "metadata": {
    "collapsed": false
   },
   "outputs": [
    {
     "name": "stdout",
     "output_type": "stream",
     "text": [
      "[ 0.  0.  0. ...,  1.  1.  1.]\n"
     ]
    }
   ],
   "source": [
    "print(y_pred_mfcc)"
   ]
  },
  {
   "cell_type": "code",
   "execution_count": null,
   "metadata": {
    "collapsed": true
   },
   "outputs": [],
   "source": [
    "print(np.)"
   ]
  },
  {
   "cell_type": "code",
   "execution_count": 28,
   "metadata": {
    "collapsed": false
   },
   "outputs": [
    {
     "name": "stdout",
     "output_type": "stream",
     "text": [
      "0.688344021124\n",
      "0.740303479492\n",
      "0.999273777459\n",
      "0.334031920039\n"
     ]
    },
    {
     "name": "stderr",
     "output_type": "stream",
     "text": [
      "/Users/bowonyang/anaconda3/lib/python3.6/site-packages/sklearn/metrics/classification.py:1113: UndefinedMetricWarning: F-score is ill-defined and being set to 0.0 in labels with no predicted samples.\n",
      "  'precision', 'predicted', average, warn_for)\n"
     ]
    }
   ],
   "source": [
    "from sklearn.metrics import f1_score\n",
    "print(f1_score(y_test, y_pred_mfcc, average='macro'))\n",
    "print(f1_score(y_test, y_pred_d_mfcc, average='macro'))\n",
    "print(f1_score(y_test, y_pred_fbank, average='macro'))\n",
    "print(f1_score(y_test, y_pred_ssc, average='macro'))"
   ]
  }
 ],
 "metadata": {
  "kernelspec": {
   "display_name": "Python 3",
   "language": "python",
   "name": "python3"
  },
  "language_info": {
   "codemirror_mode": {
    "name": "ipython",
    "version": 3
   },
   "file_extension": ".py",
   "mimetype": "text/x-python",
   "name": "python",
   "nbconvert_exporter": "python",
   "pygments_lexer": "ipython3",
   "version": "3.6.0"
  }
 },
 "nbformat": 4,
 "nbformat_minor": 2
}
